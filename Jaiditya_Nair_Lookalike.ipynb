{
 "cells": [
  {
   "cell_type": "code",
   "execution_count": 2,
   "metadata": {},
   "outputs": [],
   "source": [
    "import pandas as pd\n",
    "import numpy as np\n",
    "from sklearn.preprocessing import StandardScaler, OneHotEncoder\n",
    "from sklearn.metrics.pairwise import cosine_similarity\n"
   ]
  },
  {
   "cell_type": "code",
   "execution_count": 3,
   "metadata": {},
   "outputs": [],
   "source": [
    "# Load datasets\n",
    "customers = pd.read_csv('Customers.csv')\n",
    "products = pd.read_csv('Products.csv')\n",
    "transactions = pd.read_csv('Transactions.csv')\n",
    "\n",
    "# Merge datasets\n",
    "data = transactions.merge(customers, on=\"CustomerID\").merge(products, on=\"ProductID\")\n"
   ]
  },
  {
   "cell_type": "code",
   "execution_count": 4,
   "metadata": {},
   "outputs": [],
   "source": [
    "# Aggregate transaction data by customer\n",
    "customer_features = data.groupby('CustomerID').agg({\n",
    "    'TotalValue': 'sum',         # Total spending\n",
    "    'Quantity': 'sum',           # Total quantity purchased\n",
    "    'ProductID': 'nunique',      # Number of unique products purchased\n",
    "    'Category': 'nunique'        # Number of unique categories purchased\n",
    "}).reset_index()\n",
    "\n",
    "# Add profile features (e.g., region)\n",
    "customer_features = customer_features.merge(customers[['CustomerID', 'Region']], on='CustomerID')\n",
    "\n",
    "# One-hot encode categorical features (e.g., Region)\n",
    "encoder = OneHotEncoder()\n",
    "region_encoded = pd.DataFrame(\n",
    "    encoder.fit_transform(customer_features[['Region']]).toarray(),\n",
    "    columns=encoder.get_feature_names_out(['Region'])\n",
    ")\n",
    "customer_features = pd.concat([customer_features, region_encoded], axis=1)\n",
    "customer_features.drop(columns=['Region'], inplace=True)\n",
    "\n",
    "# Standardize numerical features\n",
    "scaler = StandardScaler()\n",
    "numerical_features = ['TotalValue', 'Quantity', 'ProductID', 'Category']\n",
    "customer_features[numerical_features] = scaler.fit_transform(customer_features[numerical_features])\n"
   ]
  },
  {
   "cell_type": "code",
   "execution_count": 5,
   "metadata": {},
   "outputs": [],
   "source": [
    "# Compute cosine similarity between customers\n",
    "similarity_matrix = cosine_similarity(customer_features.drop(columns=['CustomerID']))\n",
    "\n",
    "# Create a DataFrame for similarity scores\n",
    "similarity_df = pd.DataFrame(similarity_matrix, index=customer_features['CustomerID'], columns=customer_features['CustomerID'])\n"
   ]
  },
  {
   "cell_type": "code",
   "execution_count": 6,
   "metadata": {},
   "outputs": [],
   "source": [
    "# Generate lookalike recommendations for customers C0001 to C0020\n",
    "lookalike_results = {}\n",
    "\n",
    "for customer in customer_features['CustomerID'][:20]:\n",
    "    # Get similarity scores for the customer\n",
    "    customer_similarities = similarity_df[customer].sort_values(ascending=False)\n",
    "    \n",
    "    # Exclude the customer themselves\n",
    "    top_similar_customers = customer_similarities.iloc[1:4]  # Top 3 (excluding self)\n",
    "    \n",
    "    # Add to results\n",
    "    lookalike_results[customer] = list(zip(top_similar_customers.index, top_similar_customers.values))\n",
    "\n",
    "# Create Lookalike.csv\n",
    "lookalike_df = pd.DataFrame.from_dict(lookalike_results, orient='index', columns=['Lookalike1', 'Lookalike2', 'Lookalike3'])\n",
    "lookalike_df.to_csv('Lookalike.csv', index_label='CustomerID')\n"
   ]
  }
 ],
 "metadata": {
  "kernelspec": {
   "display_name": "venv",
   "language": "python",
   "name": "python3"
  },
  "language_info": {
   "codemirror_mode": {
    "name": "ipython",
    "version": 3
   },
   "file_extension": ".py",
   "mimetype": "text/x-python",
   "name": "python",
   "nbconvert_exporter": "python",
   "pygments_lexer": "ipython3",
   "version": "3.9.6"
  }
 },
 "nbformat": 4,
 "nbformat_minor": 2
}
